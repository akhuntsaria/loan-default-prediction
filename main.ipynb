{
 "cells": [
  {
   "cell_type": "markdown",
   "id": "f7b9e71c",
   "metadata": {},
   "source": [
    "# Loan default prediction using logistic regression"
   ]
  },
  {
   "cell_type": "markdown",
   "id": "1d4a8333",
   "metadata": {},
   "source": [
    "## Import libraries"
   ]
  },
  {
   "cell_type": "code",
   "execution_count": 1,
   "id": "6451ad96",
   "metadata": {},
   "outputs": [],
   "source": [
    "import pandas as pd\n",
    "import numpy as np\n",
    "import seaborn as sns\n",
    "import matplotlib.pyplot as plt"
   ]
  },
  {
   "cell_type": "markdown",
   "id": "a60f50d0",
   "metadata": {},
   "source": [
    "## Load data"
   ]
  },
  {
   "cell_type": "code",
   "execution_count": 25,
   "id": "a5ea8c38",
   "metadata": {},
   "outputs": [],
   "source": [
    "loan_data_frame = pd.read_csv('data.csv', usecols=['amount', 'employment', 'status']) # pandas.DataFrame"
   ]
  },
  {
   "cell_type": "markdown",
   "id": "8d34f67c",
   "metadata": {},
   "source": [
    "### Count of rows"
   ]
  },
  {
   "cell_type": "code",
   "execution_count": 3,
   "id": "3ef11444",
   "metadata": {},
   "outputs": [
    {
     "data": {
      "text/plain": [
       "50000"
      ]
     },
     "execution_count": 3,
     "metadata": {},
     "output_type": "execute_result"
    }
   ],
   "source": [
    "len(loan_data_frame)"
   ]
  },
  {
   "cell_type": "markdown",
   "id": "9272fbc0",
   "metadata": {},
   "source": [
    "### Example of training data"
   ]
  },
  {
   "cell_type": "code",
   "execution_count": 4,
   "id": "8b55db23",
   "metadata": {},
   "outputs": [
    {
     "data": {
      "text/html": [
       "<div>\n",
       "<style scoped>\n",
       "    .dataframe tbody tr th:only-of-type {\n",
       "        vertical-align: middle;\n",
       "    }\n",
       "\n",
       "    .dataframe tbody tr th {\n",
       "        vertical-align: top;\n",
       "    }\n",
       "\n",
       "    .dataframe thead th {\n",
       "        text-align: right;\n",
       "    }\n",
       "</style>\n",
       "<table border=\"1\" class=\"dataframe\">\n",
       "  <thead>\n",
       "    <tr style=\"text-align: right;\">\n",
       "      <th></th>\n",
       "      <th>amount</th>\n",
       "      <th>employment</th>\n",
       "      <th>status</th>\n",
       "    </tr>\n",
       "  </thead>\n",
       "  <tbody>\n",
       "    <tr>\n",
       "      <th>0</th>\n",
       "      <td>8000.0</td>\n",
       "      <td>Warehouseman</td>\n",
       "      <td>Charged Off</td>\n",
       "    </tr>\n",
       "    <tr>\n",
       "      <th>1</th>\n",
       "      <td>11000.0</td>\n",
       "      <td>Vice President</td>\n",
       "      <td>Fully Paid</td>\n",
       "    </tr>\n",
       "    <tr>\n",
       "      <th>2</th>\n",
       "      <td>35000.0</td>\n",
       "      <td>Owner/Attorney</td>\n",
       "      <td>Current</td>\n",
       "    </tr>\n",
       "    <tr>\n",
       "      <th>3</th>\n",
       "      <td>20000.0</td>\n",
       "      <td>Analyst</td>\n",
       "      <td>Fully Paid</td>\n",
       "    </tr>\n",
       "    <tr>\n",
       "      <th>4</th>\n",
       "      <td>12000.0</td>\n",
       "      <td>medical technician</td>\n",
       "      <td>Current</td>\n",
       "    </tr>\n",
       "  </tbody>\n",
       "</table>\n",
       "</div>"
      ],
      "text/plain": [
       "    amount          employment       status\n",
       "0   8000.0       Warehouseman   Charged Off\n",
       "1  11000.0      Vice President   Fully Paid\n",
       "2  35000.0      Owner/Attorney      Current\n",
       "3  20000.0             Analyst   Fully Paid\n",
       "4  12000.0  medical technician      Current"
      ]
     },
     "execution_count": 4,
     "metadata": {},
     "output_type": "execute_result"
    }
   ],
   "source": [
    "loan_data_frame.head(5)"
   ]
  },
  {
   "cell_type": "markdown",
   "id": "6e641254",
   "metadata": {},
   "source": [
    "### Columns and their description\n",
    "amount - loan amount  \n",
    "employment - job title of applicant  \n",
    "status - loan status"
   ]
  },
  {
   "cell_type": "markdown",
   "id": "1a3f3508",
   "metadata": {},
   "source": [
    "## Visualize data"
   ]
  },
  {
   "cell_type": "code",
   "execution_count": 19,
   "id": "800ed780",
   "metadata": {
    "scrolled": true
   },
   "outputs": [
    {
     "data": {
      "text/plain": [
       "Text(0.5, 1.0, 'Status distribution')"
      ]
     },
     "execution_count": 19,
     "metadata": {},
     "output_type": "execute_result"
    },
    {
     "data": {
      "image/png": "[encoded data removed]",
      "text/plain": [
       "<Figure size 1080x288 with 1 Axes>"
      ]
     },
     "metadata": {
      "needs_background": "light"
     },
     "output_type": "display_data"
    }
   ],
   "source": [
    "plt.figure(figsize=(15,4))\n",
    "sns.countplot(x='status',data=loan_data_frame).set_title('Status distribution')"
   ]
  },
  {
   "cell_type": "code",
   "execution_count": 6,
   "id": "c5a52593",
   "metadata": {
    "scrolled": false
   },
   "outputs": [
    {
     "data": {
      "text/plain": [
       "<seaborn.axisgrid.FacetGrid at 0x17dd94e50>"
      ]
     },
     "execution_count": 6,
     "metadata": {},
     "output_type": "execute_result"
    },
    {
     "data": {
      "image/png": "[encoded data removed]",
      "text/plain": [
       "<Figure size 360x360 with 1 Axes>"
      ]
     },
     "metadata": {
      "needs_background": "light"
     },
     "output_type": "display_data"
    }
   ],
   "source": [
    "sns.displot(x='amount',data=loan_data_frame).set(title='Amount distribution')"
   ]
  },
  {
   "cell_type": "markdown",
   "id": "bdaf36ac",
   "metadata": {},
   "source": [
    "### Empty values"
   ]
  },
  {
   "cell_type": "code",
   "execution_count": 7,
   "id": "a90d5ac5",
   "metadata": {
    "scrolled": true
   },
   "outputs": [
    {
     "data": {
      "text/plain": [
       "amount           1\n",
       "employment    2785\n",
       "status           1\n",
       "dtype: int64"
      ]
     },
     "execution_count": 7,
     "metadata": {},
     "output_type": "execute_result"
    }
   ],
   "source": [
    "loan_data_frame.isna().sum()"
   ]
  },
  {
   "cell_type": "code",
   "execution_count": 8,
   "id": "5e38cd8e",
   "metadata": {},
   "outputs": [
    {
     "data": {
      "text/plain": [
       "<AxesSubplot:>"
      ]
     },
     "execution_count": 8,
     "metadata": {},
     "output_type": "execute_result"
    },
    {
     "data": {
      "image/png": "[encoded data removed]",
      "text/plain": [
       "<Figure size 432x288 with 2 Axes>"
      ]
     },
     "metadata": {
      "needs_background": "light"
     },
     "output_type": "display_data"
    }
   ],
   "source": [
    "sns.heatmap(loan_data_frame.isna())"
   ]
  },
  {
   "cell_type": "markdown",
   "id": "b107b9af",
   "metadata": {},
   "source": [
    "## Prepare data for the model"
   ]
  },
  {
   "cell_type": "markdown",
   "id": "fb9d180a",
   "metadata": {},
   "source": [
    "### Fill empty values"
   ]
  },
  {
   "cell_type": "code",
   "execution_count": 9,
   "id": "afeb89b9",
   "metadata": {},
   "outputs": [
    {
     "data": {
      "text/plain": [
       "15145.52791055821"
      ]
     },
     "execution_count": 9,
     "metadata": {},
     "output_type": "execute_result"
    }
   ],
   "source": [
    "# Amount\n",
    "mean_amount = loan_data_frame['amount'].mean()\n",
    "loan_data_frame['amount'].fillna(mean_amount,inplace=True)\n",
    "mean_amount"
   ]
  },
  {
   "cell_type": "code",
   "execution_count": 10,
   "id": "a7160245",
   "metadata": {},
   "outputs": [
    {
     "data": {
      "text/plain": [
       "'Fully Paid'"
      ]
     },
     "execution_count": 10,
     "metadata": {},
     "output_type": "execute_result"
    }
   ],
   "source": [
    "# Status\n",
    "mean_status = loan_data_frame['status'].mode()\n",
    "loan_data_frame['status'].fillna(mean_status[0],inplace=True)\n",
    "mean_status[0]"
   ]
  },
  {
   "cell_type": "code",
   "execution_count": 11,
   "id": "1d447b05",
   "metadata": {},
   "outputs": [
    {
     "data": {
      "text/plain": [
       "amount           0\n",
       "employment    2785\n",
       "status           0\n",
       "dtype: int64"
      ]
     },
     "execution_count": 11,
     "metadata": {},
     "output_type": "execute_result"
    }
   ],
   "source": [
    "# Make sure there are no more NAs\n",
    "loan_data_frame.isna().sum()"
   ]
  },
  {
   "cell_type": "markdown",
   "id": "9ae5a515",
   "metadata": {},
   "source": [
    "### Convert non-numerical values"
   ]
  },
  {
   "cell_type": "code",
   "execution_count": 12,
   "id": "f3e851a9",
   "metadata": {},
   "outputs": [
    {
     "data": {
      "text/plain": [
       "amount        float64\n",
       "employment     object\n",
       "status         object\n",
       "dtype: object"
      ]
     },
     "execution_count": 12,
     "metadata": {},
     "output_type": "execute_result"
    }
   ],
   "source": [
    "loan_data_frame.dtypes"
   ]
  },
  {
   "cell_type": "code",
   "execution_count": 30,
   "id": "3de03c7e",
   "metadata": {},
   "outputs": [],
   "source": [
    "# Convert strings to categorical integers\n",
    "loan_data_frame['status'] = loan_data_frame['status'].astype('category').cat.codes\n",
    "loan_data_frame['employment'] = loan_data_frame['employment'].astype('category').cat.codes"
   ]
  },
  {
   "cell_type": "code",
   "execution_count": 31,
   "id": "b804b5c5",
   "metadata": {},
   "outputs": [
    {
     "data": {
      "text/plain": [
       "amount        float64\n",
       "employment      int16\n",
       "status           int8\n",
       "dtype: object"
      ]
     },
     "execution_count": 31,
     "metadata": {},
     "output_type": "execute_result"
    }
   ],
   "source": [
    "loan_data_frame.dtypes"
   ]
  }
 ],
 "metadata": {
  "kernelspec": {
   "display_name": "Python 3 (ipykernel)",
   "language": "python",
   "name": "python3"
  },
  "language_info": {
   "codemirror_mode": {
    "name": "ipython",
    "version": 3
   },
   "file_extension": ".py",
   "mimetype": "text/x-python",
   "name": "python",
   "nbconvert_exporter": "python",
   "pygments_lexer": "ipython3",
   "version": "3.9.10"
  }
 },
 "nbformat": 4,
 "nbformat_minor": 5
}
