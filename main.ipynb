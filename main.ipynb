{
 "cells": [
  {
   "cell_type": "markdown",
   "id": "f7b9e71c",
   "metadata": {},
   "source": [
    "# Loan default prediction using logistic regression"
   ]
  },
  {
   "cell_type": "markdown",
   "id": "1d4a8333",
   "metadata": {},
   "source": [
    "## Import libraries"
   ]
  },
  {
   "cell_type": "code",
   "execution_count": 1,
   "id": "6451ad96",
   "metadata": {},
   "outputs": [],
   "source": [
    "import pandas as pd\n",
    "import numpy as np\n",
    "import seaborn as sns\n",
    "import matplotlib.pyplot as plt\n",
    "import math\n",
    "from sklearn.model_selection import train_test_split\n",
    "from sklearn.linear_model import LogisticRegression\n",
    "from sklearn.metrics import confusion_matrix\n",
    "from sklearn.metrics import classification_report"
   ]
  },
  {
   "cell_type": "markdown",
   "id": "a60f50d0",
   "metadata": {},
   "source": [
    "## Load data"
   ]
  },
  {
   "cell_type": "code",
   "execution_count": 2,
   "id": "a5ea8c38",
   "metadata": {},
   "outputs": [],
   "source": [
    "# Variable type is pandas.DataFrame; the useless ID column is excluded. \n",
    "loan_data_frame = pd.read_csv('data.csv', usecols=lambda x: x != 'loanID')"
   ]
  },
  {
   "cell_type": "markdown",
   "id": "8d34f67c",
   "metadata": {},
   "source": [
    "### Count of rows"
   ]
  },
  {
   "cell_type": "code",
   "execution_count": 3,
   "id": "3ef11444",
   "metadata": {},
   "outputs": [
    {
     "data": {
      "text/plain": [
       "50000"
      ]
     },
     "execution_count": 3,
     "metadata": {},
     "output_type": "execute_result"
    }
   ],
   "source": [
    "len(loan_data_frame)"
   ]
  },
  {
   "cell_type": "markdown",
   "id": "9272fbc0",
   "metadata": {},
   "source": [
    "### Example of training data"
   ]
  },
  {
   "cell_type": "code",
   "execution_count": 4,
   "id": "8b55db23",
   "metadata": {},
   "outputs": [
    {
     "data": {
      "text/html": [
       "<div>\n",
       "<style scoped>\n",
       "    .dataframe tbody tr th:only-of-type {\n",
       "        vertical-align: middle;\n",
       "    }\n",
       "\n",
       "    .dataframe tbody tr th {\n",
       "        vertical-align: top;\n",
       "    }\n",
       "\n",
       "    .dataframe thead th {\n",
       "        text-align: right;\n",
       "    }\n",
       "</style>\n",
       "<table border=\"1\" class=\"dataframe\">\n",
       "  <thead>\n",
       "    <tr style=\"text-align: right;\">\n",
       "      <th></th>\n",
       "      <th>amount</th>\n",
       "      <th>term</th>\n",
       "      <th>rate</th>\n",
       "      <th>payment</th>\n",
       "      <th>grade</th>\n",
       "      <th>employment</th>\n",
       "      <th>length</th>\n",
       "      <th>home</th>\n",
       "      <th>income</th>\n",
       "      <th>verified</th>\n",
       "      <th>status</th>\n",
       "      <th>reason</th>\n",
       "      <th>state</th>\n",
       "      <th>debtIncRat</th>\n",
       "      <th>delinq2yr</th>\n",
       "      <th>inq6mth</th>\n",
       "      <th>openAcc</th>\n",
       "      <th>pubRec</th>\n",
       "      <th>revolRatio</th>\n",
       "      <th>totalAcc</th>\n",
       "      <th>totalPaid</th>\n",
       "      <th>totalBal</th>\n",
       "      <th>totalRevLim</th>\n",
       "      <th>accOpen24</th>\n",
       "      <th>avgBal</th>\n",
       "      <th>bcOpen</th>\n",
       "      <th>bcRatio</th>\n",
       "      <th>totalLim</th>\n",
       "      <th>totalRevBal</th>\n",
       "      <th>totalBcLim</th>\n",
       "      <th>totalIlLim</th>\n",
       "    </tr>\n",
       "  </thead>\n",
       "  <tbody>\n",
       "    <tr>\n",
       "      <th>0</th>\n",
       "      <td>8000.0</td>\n",
       "      <td>36 months</td>\n",
       "      <td>0.14</td>\n",
       "      <td>272.07</td>\n",
       "      <td>C</td>\n",
       "      <td>Warehouseman</td>\n",
       "      <td>3 years</td>\n",
       "      <td>RENT</td>\n",
       "      <td>49966.0</td>\n",
       "      <td>Source Verified</td>\n",
       "      <td>Charged Off</td>\n",
       "      <td>credit_card</td>\n",
       "      <td>CA</td>\n",
       "      <td>30.05</td>\n",
       "      <td>0.0</td>\n",
       "      <td>0.0</td>\n",
       "      <td>11.0</td>\n",
       "      <td>0.0</td>\n",
       "      <td>0.55</td>\n",
       "      <td>15.0</td>\n",
       "      <td>5914.67000</td>\n",
       "      <td>48054.0</td>\n",
       "      <td>8100.0</td>\n",
       "      <td>8.0</td>\n",
       "      <td>4369.0</td>\n",
       "      <td>43.0</td>\n",
       "      <td>95.7</td>\n",
       "      <td>60629.0</td>\n",
       "      <td>48054.0</td>\n",
       "      <td>1000.0</td>\n",
       "      <td>52529.0</td>\n",
       "    </tr>\n",
       "    <tr>\n",
       "      <th>1</th>\n",
       "      <td>11000.0</td>\n",
       "      <td>36 months</td>\n",
       "      <td>0.10</td>\n",
       "      <td>354.89</td>\n",
       "      <td>B</td>\n",
       "      <td>Vice President</td>\n",
       "      <td>10+ years</td>\n",
       "      <td>MORTGAGE</td>\n",
       "      <td>50000.0</td>\n",
       "      <td>Not Verified</td>\n",
       "      <td>Fully Paid</td>\n",
       "      <td>debt_consolidation</td>\n",
       "      <td>PA</td>\n",
       "      <td>8.74</td>\n",
       "      <td>0.0</td>\n",
       "      <td>2.0</td>\n",
       "      <td>12.0</td>\n",
       "      <td>0.0</td>\n",
       "      <td>0.36</td>\n",
       "      <td>15.0</td>\n",
       "      <td>12024.75000</td>\n",
       "      <td>265838.0</td>\n",
       "      <td>33400.0</td>\n",
       "      <td>4.0</td>\n",
       "      <td>22153.0</td>\n",
       "      <td>19756.0</td>\n",
       "      <td>37.5</td>\n",
       "      <td>297500.0</td>\n",
       "      <td>11844.0</td>\n",
       "      <td>31600.0</td>\n",
       "      <td>0.0</td>\n",
       "    </tr>\n",
       "    <tr>\n",
       "      <th>2</th>\n",
       "      <td>35000.0</td>\n",
       "      <td>36 months</td>\n",
       "      <td>0.15</td>\n",
       "      <td>1220.33</td>\n",
       "      <td>D</td>\n",
       "      <td>Owner/Attorney</td>\n",
       "      <td>10+ years</td>\n",
       "      <td>RENT</td>\n",
       "      <td>360000.0</td>\n",
       "      <td>Verified</td>\n",
       "      <td>Current</td>\n",
       "      <td>debt_consolidation</td>\n",
       "      <td>CA</td>\n",
       "      <td>14.50</td>\n",
       "      <td>0.0</td>\n",
       "      <td>1.0</td>\n",
       "      <td>8.0</td>\n",
       "      <td>0.0</td>\n",
       "      <td>0.83</td>\n",
       "      <td>14.0</td>\n",
       "      <td>31668.65000</td>\n",
       "      <td>850150.0</td>\n",
       "      <td>83000.0</td>\n",
       "      <td>2.0</td>\n",
       "      <td>121450.0</td>\n",
       "      <td>7686.0</td>\n",
       "      <td>83.2</td>\n",
       "      <td>907300.0</td>\n",
       "      <td>173260.0</td>\n",
       "      <td>83000.0</td>\n",
       "      <td>100000.0</td>\n",
       "    </tr>\n",
       "    <tr>\n",
       "      <th>3</th>\n",
       "      <td>20000.0</td>\n",
       "      <td>60 months</td>\n",
       "      <td>0.12</td>\n",
       "      <td>447.83</td>\n",
       "      <td>C</td>\n",
       "      <td>Analyst</td>\n",
       "      <td>2 years</td>\n",
       "      <td>MORTGAGE</td>\n",
       "      <td>60000.0</td>\n",
       "      <td>Source Verified</td>\n",
       "      <td>Fully Paid</td>\n",
       "      <td>debt_consolidation</td>\n",
       "      <td>CA</td>\n",
       "      <td>14.14</td>\n",
       "      <td>0.0</td>\n",
       "      <td>0.0</td>\n",
       "      <td>12.0</td>\n",
       "      <td>3.0</td>\n",
       "      <td>0.01</td>\n",
       "      <td>48.0</td>\n",
       "      <td>23827.22901</td>\n",
       "      <td>20671.0</td>\n",
       "      <td>14200.0</td>\n",
       "      <td>8.0</td>\n",
       "      <td>1723.0</td>\n",
       "      <td>11061.0</td>\n",
       "      <td>1.2</td>\n",
       "      <td>46964.0</td>\n",
       "      <td>20671.0</td>\n",
       "      <td>11200.0</td>\n",
       "      <td>32764.0</td>\n",
       "    </tr>\n",
       "    <tr>\n",
       "      <th>4</th>\n",
       "      <td>12000.0</td>\n",
       "      <td>60 months</td>\n",
       "      <td>0.12</td>\n",
       "      <td>266.88</td>\n",
       "      <td>B</td>\n",
       "      <td>medical technician</td>\n",
       "      <td>10+ years</td>\n",
       "      <td>MORTGAGE</td>\n",
       "      <td>64000.0</td>\n",
       "      <td>Source Verified</td>\n",
       "      <td>Current</td>\n",
       "      <td>debt_consolidation</td>\n",
       "      <td>NJ</td>\n",
       "      <td>5.14</td>\n",
       "      <td>0.0</td>\n",
       "      <td>0.0</td>\n",
       "      <td>8.0</td>\n",
       "      <td>0.0</td>\n",
       "      <td>0.58</td>\n",
       "      <td>22.0</td>\n",
       "      <td>9599.69000</td>\n",
       "      <td>128034.0</td>\n",
       "      <td>14600.0</td>\n",
       "      <td>3.0</td>\n",
       "      <td>18291.0</td>\n",
       "      <td>5904.0</td>\n",
       "      <td>58.4</td>\n",
       "      <td>134600.0</td>\n",
       "      <td>8475.0</td>\n",
       "      <td>14200.0</td>\n",
       "      <td>0.0</td>\n",
       "    </tr>\n",
       "  </tbody>\n",
       "</table>\n",
       "</div>"
      ],
      "text/plain": [
       "    amount        term  rate  payment grade          employment     length  \\\n",
       "0   8000.0   36 months  0.14   272.07     C       Warehouseman     3 years   \n",
       "1  11000.0   36 months  0.10   354.89     B      Vice President  10+ years   \n",
       "2  35000.0   36 months  0.15  1220.33     D      Owner/Attorney  10+ years   \n",
       "3  20000.0   60 months  0.12   447.83     C             Analyst    2 years   \n",
       "4  12000.0   60 months  0.12   266.88     B  medical technician  10+ years   \n",
       "\n",
       "       home    income         verified       status              reason state  \\\n",
       "0      RENT   49966.0  Source Verified  Charged Off         credit_card    CA   \n",
       "1  MORTGAGE   50000.0     Not Verified   Fully Paid  debt_consolidation    PA   \n",
       "2      RENT  360000.0         Verified      Current  debt_consolidation    CA   \n",
       "3  MORTGAGE   60000.0  Source Verified   Fully Paid  debt_consolidation    CA   \n",
       "4  MORTGAGE   64000.0  Source Verified      Current  debt_consolidation    NJ   \n",
       "\n",
       "   debtIncRat  delinq2yr  inq6mth  openAcc  pubRec  revolRatio  totalAcc  \\\n",
       "0       30.05        0.0      0.0     11.0     0.0        0.55      15.0   \n",
       "1        8.74        0.0      2.0     12.0     0.0        0.36      15.0   \n",
       "2       14.50        0.0      1.0      8.0     0.0        0.83      14.0   \n",
       "3       14.14        0.0      0.0     12.0     3.0        0.01      48.0   \n",
       "4        5.14        0.0      0.0      8.0     0.0        0.58      22.0   \n",
       "\n",
       "     totalPaid  totalBal  totalRevLim  accOpen24    avgBal   bcOpen  bcRatio  \\\n",
       "0   5914.67000   48054.0       8100.0        8.0    4369.0     43.0     95.7   \n",
       "1  12024.75000  265838.0      33400.0        4.0   22153.0  19756.0     37.5   \n",
       "2  31668.65000  850150.0      83000.0        2.0  121450.0   7686.0     83.2   \n",
       "3  23827.22901   20671.0      14200.0        8.0    1723.0  11061.0      1.2   \n",
       "4   9599.69000  128034.0      14600.0        3.0   18291.0   5904.0     58.4   \n",
       "\n",
       "   totalLim  totalRevBal  totalBcLim  totalIlLim  \n",
       "0   60629.0      48054.0      1000.0     52529.0  \n",
       "1  297500.0      11844.0     31600.0         0.0  \n",
       "2  907300.0     173260.0     83000.0    100000.0  \n",
       "3   46964.0      20671.0     11200.0     32764.0  \n",
       "4  134600.0       8475.0     14200.0         0.0  "
      ]
     },
     "execution_count": 4,
     "metadata": {},
     "output_type": "execute_result"
    }
   ],
   "source": [
    "pd.set_option('display.max_columns', None)\n",
    "loan_data_frame.head(5)"
   ]
  },
  {
   "cell_type": "markdown",
   "id": "6e641254",
   "metadata": {},
   "source": [
    "### Columns and their description\n",
    "amount - loan amount  \n",
    "rate - loan interest rate  \n",
    "employment - job title of an applicant  \n",
    "status - loan status\n",
    "\n",
    "etc., most of them are self-explanatory"
   ]
  },
  {
   "cell_type": "markdown",
   "id": "1a3f3508",
   "metadata": {},
   "source": [
    "## Visualize data"
   ]
  },
  {
   "cell_type": "code",
   "execution_count": 5,
   "id": "800ed780",
   "metadata": {
    "scrolled": true
   },
   "outputs": [
    {
     "data": {
      "text/plain": [
       "Text(0.5, 1.0, 'Status distribution')"
      ]
     },
     "execution_count": 5,
     "metadata": {},
     "output_type": "execute_result"
    },
    {
     "data": {
      "image/png": "[encoded data removed]",
      "text/plain": [
       "<Figure size 1080x288 with 1 Axes>"
      ]
     },
     "metadata": {
      "needs_background": "light"
     },
     "output_type": "display_data"
    }
   ],
   "source": [
    "plt.figure(figsize=(15,4))\n",
    "sns.countplot(x='status',data=loan_data_frame).set_title('Status distribution')"
   ]
  },
  {
   "cell_type": "code",
   "execution_count": 6,
   "id": "c5a52593",
   "metadata": {
    "scrolled": false
   },
   "outputs": [
    {
     "data": {
      "text/plain": [
       "<seaborn.axisgrid.FacetGrid at 0x16c5f30d0>"
      ]
     },
     "execution_count": 6,
     "metadata": {},
     "output_type": "execute_result"
    },
    {
     "data": {
      "image/png": "[encoded data removed]",
      "text/plain": [
       "<Figure size 360x360 with 1 Axes>"
      ]
     },
     "metadata": {
      "needs_background": "light"
     },
     "output_type": "display_data"
    }
   ],
   "source": [
    "sns.displot(x='amount',data=loan_data_frame).set(title='Amount distribution')"
   ]
  },
  {
   "cell_type": "markdown",
   "id": "bdaf36ac",
   "metadata": {},
   "source": [
    "### Empty values"
   ]
  },
  {
   "cell_type": "code",
   "execution_count": 7,
   "id": "a90d5ac5",
   "metadata": {
    "scrolled": true
   },
   "outputs": [
    {
     "data": {
      "text/plain": [
       "amount            1\n",
       "term              1\n",
       "rate              1\n",
       "payment           1\n",
       "grade             1\n",
       "employment     2785\n",
       "length         2681\n",
       "home              1\n",
       "income            1\n",
       "verified          1\n",
       "status            1\n",
       "reason            1\n",
       "state             1\n",
       "debtIncRat        1\n",
       "delinq2yr         1\n",
       "inq6mth           1\n",
       "openAcc           1\n",
       "pubRec            1\n",
       "revolRatio       19\n",
       "totalAcc          1\n",
       "totalPaid         1\n",
       "totalBal          1\n",
       "totalRevLim       1\n",
       "accOpen24         1\n",
       "avgBal            1\n",
       "bcOpen          489\n",
       "bcRatio         521\n",
       "totalLim          1\n",
       "totalRevBal       1\n",
       "totalBcLim        1\n",
       "totalIlLim        1\n",
       "dtype: int64"
      ]
     },
     "execution_count": 7,
     "metadata": {},
     "output_type": "execute_result"
    }
   ],
   "source": [
    "loan_data_frame.isna().sum()"
   ]
  },
  {
   "cell_type": "code",
   "execution_count": 8,
   "id": "5e38cd8e",
   "metadata": {},
   "outputs": [
    {
     "data": {
      "text/plain": [
       "<AxesSubplot:>"
      ]
     },
     "execution_count": 8,
     "metadata": {},
     "output_type": "execute_result"
    },
    {
     "data": {
      "image/png": "[encoded data removed]",
      "text/plain": [
       "<Figure size 432x288 with 2 Axes>"
      ]
     },
     "metadata": {
      "needs_background": "light"
     },
     "output_type": "display_data"
    }
   ],
   "source": [
    "sns.heatmap(loan_data_frame[['amount','employment','length']].isna())"
   ]
  },
  {
   "cell_type": "markdown",
   "id": "b107b9af",
   "metadata": {},
   "source": [
    "## Prepare data for the model"
   ]
  },
  {
   "cell_type": "markdown",
   "id": "fb9d180a",
   "metadata": {},
   "source": [
    "### Fill empty values"
   ]
  },
  {
   "cell_type": "markdown",
   "id": "0fb7c422",
   "metadata": {},
   "source": [
    "#### Amount"
   ]
  },
  {
   "cell_type": "code",
   "execution_count": 9,
   "id": "afeb89b9",
   "metadata": {},
   "outputs": [
    {
     "data": {
      "text/plain": [
       "15145.52791055821"
      ]
     },
     "execution_count": 9,
     "metadata": {},
     "output_type": "execute_result"
    }
   ],
   "source": [
    "mean_amount = loan_data_frame['amount'].mean()\n",
    "loan_data_frame['amount'].fillna(mean_amount,inplace=True)\n",
    "mean_amount"
   ]
  },
  {
   "cell_type": "markdown",
   "id": "7a13aa8b",
   "metadata": {},
   "source": [
    "#### The rest of columns"
   ]
  },
  {
   "cell_type": "code",
   "execution_count": 10,
   "id": "99def288",
   "metadata": {},
   "outputs": [],
   "source": [
    "# Categorical data\n",
    "for key in ['employment','length']:\n",
    "    loan_data_frame[key].fillna(loan_data_frame[key].mode()[0],inplace=True)\n",
    "\n",
    "# Numerical data\n",
    "for key in ['bcOpen','bcRatio','revolRatio']:\n",
    "    loan_data_frame[key].fillna(round(loan_data_frame[key].mean(), 2), inplace=True)\n",
    "\n",
    "# Drop that one row with almost no data\n",
    "loan_data_frame = loan_data_frame[loan_data_frame['rate'].notna()]"
   ]
  },
  {
   "cell_type": "markdown",
   "id": "16b7a22a",
   "metadata": {},
   "source": [
    "#### Make sure there are no more NAs"
   ]
  },
  {
   "cell_type": "code",
   "execution_count": 11,
   "id": "3c7cea6d",
   "metadata": {
    "scrolled": false
   },
   "outputs": [
    {
     "data": {
      "text/plain": [
       "amount         0\n",
       "term           0\n",
       "rate           0\n",
       "payment        0\n",
       "grade          0\n",
       "employment     0\n",
       "length         0\n",
       "home           0\n",
       "income         0\n",
       "verified       0\n",
       "status         0\n",
       "reason         0\n",
       "state          0\n",
       "debtIncRat     0\n",
       "delinq2yr      0\n",
       "inq6mth        0\n",
       "openAcc        0\n",
       "pubRec         0\n",
       "revolRatio     0\n",
       "totalAcc       0\n",
       "totalPaid      0\n",
       "totalBal       0\n",
       "totalRevLim    0\n",
       "accOpen24      0\n",
       "avgBal         0\n",
       "bcOpen         0\n",
       "bcRatio        0\n",
       "totalLim       0\n",
       "totalRevBal    0\n",
       "totalBcLim     0\n",
       "totalIlLim     0\n",
       "dtype: int64"
      ]
     },
     "execution_count": 11,
     "metadata": {},
     "output_type": "execute_result"
    }
   ],
   "source": [
    "loan_data_frame.isna().sum()"
   ]
  },
  {
   "cell_type": "markdown",
   "id": "c9ff18fe",
   "metadata": {},
   "source": [
    "### Data types before"
   ]
  },
  {
   "cell_type": "code",
   "execution_count": 12,
   "id": "291223d8",
   "metadata": {},
   "outputs": [
    {
     "data": {
      "text/plain": [
       "amount         float64\n",
       "term            object\n",
       "rate           float64\n",
       "payment        float64\n",
       "grade           object\n",
       "employment      object\n",
       "length          object\n",
       "home            object\n",
       "income         float64\n",
       "verified        object\n",
       "status          object\n",
       "reason          object\n",
       "state           object\n",
       "debtIncRat     float64\n",
       "delinq2yr      float64\n",
       "inq6mth        float64\n",
       "openAcc        float64\n",
       "pubRec         float64\n",
       "revolRatio     float64\n",
       "totalAcc       float64\n",
       "totalPaid      float64\n",
       "totalBal       float64\n",
       "totalRevLim    float64\n",
       "accOpen24      float64\n",
       "avgBal         float64\n",
       "bcOpen         float64\n",
       "bcRatio        float64\n",
       "totalLim       float64\n",
       "totalRevBal    float64\n",
       "totalBcLim     float64\n",
       "totalIlLim     float64\n",
       "dtype: object"
      ]
     },
     "execution_count": 12,
     "metadata": {},
     "output_type": "execute_result"
    }
   ],
   "source": [
    "loan_data_frame.dtypes"
   ]
  },
  {
   "cell_type": "markdown",
   "id": "10336541",
   "metadata": {},
   "source": [
    "### Convert non-numerical values"
   ]
  },
  {
   "cell_type": "code",
   "execution_count": 13,
   "id": "3de03c7e",
   "metadata": {},
   "outputs": [],
   "source": [
    "for key in ['employment','grade','home','length','reason','state','term','verified']:\n",
    "    loan_data_frame[key] = loan_data_frame[key].astype('category').cat.codes"
   ]
  },
  {
   "cell_type": "markdown",
   "id": "7e270656",
   "metadata": {},
   "source": [
    "### Make dependent value binary"
   ]
  },
  {
   "cell_type": "code",
   "execution_count": 14,
   "id": "7b1bc084",
   "metadata": {},
   "outputs": [],
   "source": [
    "loan_data_frame['status'] = list(map(lambda s: s == 'Fully Paid', loan_data_frame['status']))"
   ]
  },
  {
   "cell_type": "markdown",
   "id": "a98d2f8b",
   "metadata": {},
   "source": [
    "### Data types after"
   ]
  },
  {
   "cell_type": "code",
   "execution_count": 15,
   "id": "319278f6",
   "metadata": {},
   "outputs": [
    {
     "data": {
      "text/plain": [
       "amount         float64\n",
       "term              int8\n",
       "rate           float64\n",
       "payment        float64\n",
       "grade             int8\n",
       "employment       int16\n",
       "length            int8\n",
       "home              int8\n",
       "income         float64\n",
       "verified          int8\n",
       "status            bool\n",
       "reason            int8\n",
       "state             int8\n",
       "debtIncRat     float64\n",
       "delinq2yr      float64\n",
       "inq6mth        float64\n",
       "openAcc        float64\n",
       "pubRec         float64\n",
       "revolRatio     float64\n",
       "totalAcc       float64\n",
       "totalPaid      float64\n",
       "totalBal       float64\n",
       "totalRevLim    float64\n",
       "accOpen24      float64\n",
       "avgBal         float64\n",
       "bcOpen         float64\n",
       "bcRatio        float64\n",
       "totalLim       float64\n",
       "totalRevBal    float64\n",
       "totalBcLim     float64\n",
       "totalIlLim     float64\n",
       "dtype: object"
      ]
     },
     "execution_count": 15,
     "metadata": {},
     "output_type": "execute_result"
    }
   ],
   "source": [
    "loan_data_frame.dtypes"
   ]
  },
  {
   "cell_type": "markdown",
   "id": "202a7f96",
   "metadata": {},
   "source": [
    "### Separate dependant and independent variables"
   ]
  },
  {
   "cell_type": "code",
   "execution_count": 16,
   "id": "90d844e1",
   "metadata": {},
   "outputs": [
    {
     "data": {
      "text/html": [
       "<div>\n",
       "<style scoped>\n",
       "    .dataframe tbody tr th:only-of-type {\n",
       "        vertical-align: middle;\n",
       "    }\n",
       "\n",
       "    .dataframe tbody tr th {\n",
       "        vertical-align: top;\n",
       "    }\n",
       "\n",
       "    .dataframe thead th {\n",
       "        text-align: right;\n",
       "    }\n",
       "</style>\n",
       "<table border=\"1\" class=\"dataframe\">\n",
       "  <thead>\n",
       "    <tr style=\"text-align: right;\">\n",
       "      <th></th>\n",
       "      <th>amount</th>\n",
       "      <th>term</th>\n",
       "      <th>rate</th>\n",
       "      <th>payment</th>\n",
       "      <th>grade</th>\n",
       "      <th>employment</th>\n",
       "      <th>length</th>\n",
       "      <th>home</th>\n",
       "      <th>income</th>\n",
       "      <th>verified</th>\n",
       "      <th>reason</th>\n",
       "      <th>state</th>\n",
       "      <th>debtIncRat</th>\n",
       "      <th>delinq2yr</th>\n",
       "      <th>inq6mth</th>\n",
       "      <th>openAcc</th>\n",
       "      <th>pubRec</th>\n",
       "      <th>revolRatio</th>\n",
       "      <th>totalAcc</th>\n",
       "      <th>totalPaid</th>\n",
       "      <th>totalBal</th>\n",
       "      <th>totalRevLim</th>\n",
       "      <th>accOpen24</th>\n",
       "      <th>avgBal</th>\n",
       "      <th>bcOpen</th>\n",
       "      <th>bcRatio</th>\n",
       "      <th>totalLim</th>\n",
       "      <th>totalRevBal</th>\n",
       "      <th>totalBcLim</th>\n",
       "      <th>totalIlLim</th>\n",
       "    </tr>\n",
       "  </thead>\n",
       "  <tbody>\n",
       "    <tr>\n",
       "      <th>0</th>\n",
       "      <td>8000.0</td>\n",
       "      <td>0</td>\n",
       "      <td>0.14</td>\n",
       "      <td>272.07</td>\n",
       "      <td>2</td>\n",
       "      <td>17809</td>\n",
       "      <td>3</td>\n",
       "      <td>2</td>\n",
       "      <td>49966.0</td>\n",
       "      <td>1</td>\n",
       "      <td>1</td>\n",
       "      <td>4</td>\n",
       "      <td>30.05</td>\n",
       "      <td>0.0</td>\n",
       "      <td>0.0</td>\n",
       "      <td>11.0</td>\n",
       "      <td>0.0</td>\n",
       "      <td>0.55</td>\n",
       "      <td>15.0</td>\n",
       "      <td>5914.67000</td>\n",
       "      <td>48054.0</td>\n",
       "      <td>8100.0</td>\n",
       "      <td>8.0</td>\n",
       "      <td>4369.0</td>\n",
       "      <td>43.0</td>\n",
       "      <td>95.7</td>\n",
       "      <td>60629.0</td>\n",
       "      <td>48054.0</td>\n",
       "      <td>1000.0</td>\n",
       "      <td>52529.0</td>\n",
       "    </tr>\n",
       "    <tr>\n",
       "      <th>1</th>\n",
       "      <td>11000.0</td>\n",
       "      <td>0</td>\n",
       "      <td>0.10</td>\n",
       "      <td>354.89</td>\n",
       "      <td>1</td>\n",
       "      <td>17593</td>\n",
       "      <td>1</td>\n",
       "      <td>0</td>\n",
       "      <td>50000.0</td>\n",
       "      <td>0</td>\n",
       "      <td>2</td>\n",
       "      <td>36</td>\n",
       "      <td>8.74</td>\n",
       "      <td>0.0</td>\n",
       "      <td>2.0</td>\n",
       "      <td>12.0</td>\n",
       "      <td>0.0</td>\n",
       "      <td>0.36</td>\n",
       "      <td>15.0</td>\n",
       "      <td>12024.75000</td>\n",
       "      <td>265838.0</td>\n",
       "      <td>33400.0</td>\n",
       "      <td>4.0</td>\n",
       "      <td>22153.0</td>\n",
       "      <td>19756.0</td>\n",
       "      <td>37.5</td>\n",
       "      <td>297500.0</td>\n",
       "      <td>11844.0</td>\n",
       "      <td>31600.0</td>\n",
       "      <td>0.0</td>\n",
       "    </tr>\n",
       "    <tr>\n",
       "      <th>2</th>\n",
       "      <td>35000.0</td>\n",
       "      <td>0</td>\n",
       "      <td>0.15</td>\n",
       "      <td>1220.33</td>\n",
       "      <td>3</td>\n",
       "      <td>11045</td>\n",
       "      <td>1</td>\n",
       "      <td>2</td>\n",
       "      <td>360000.0</td>\n",
       "      <td>2</td>\n",
       "      <td>2</td>\n",
       "      <td>4</td>\n",
       "      <td>14.50</td>\n",
       "      <td>0.0</td>\n",
       "      <td>1.0</td>\n",
       "      <td>8.0</td>\n",
       "      <td>0.0</td>\n",
       "      <td>0.83</td>\n",
       "      <td>14.0</td>\n",
       "      <td>31668.65000</td>\n",
       "      <td>850150.0</td>\n",
       "      <td>83000.0</td>\n",
       "      <td>2.0</td>\n",
       "      <td>121450.0</td>\n",
       "      <td>7686.0</td>\n",
       "      <td>83.2</td>\n",
       "      <td>907300.0</td>\n",
       "      <td>173260.0</td>\n",
       "      <td>83000.0</td>\n",
       "      <td>100000.0</td>\n",
       "    </tr>\n",
       "    <tr>\n",
       "      <th>3</th>\n",
       "      <td>20000.0</td>\n",
       "      <td>1</td>\n",
       "      <td>0.12</td>\n",
       "      <td>447.83</td>\n",
       "      <td>2</td>\n",
       "      <td>798</td>\n",
       "      <td>2</td>\n",
       "      <td>0</td>\n",
       "      <td>60000.0</td>\n",
       "      <td>1</td>\n",
       "      <td>2</td>\n",
       "      <td>4</td>\n",
       "      <td>14.14</td>\n",
       "      <td>0.0</td>\n",
       "      <td>0.0</td>\n",
       "      <td>12.0</td>\n",
       "      <td>3.0</td>\n",
       "      <td>0.01</td>\n",
       "      <td>48.0</td>\n",
       "      <td>23827.22901</td>\n",
       "      <td>20671.0</td>\n",
       "      <td>14200.0</td>\n",
       "      <td>8.0</td>\n",
       "      <td>1723.0</td>\n",
       "      <td>11061.0</td>\n",
       "      <td>1.2</td>\n",
       "      <td>46964.0</td>\n",
       "      <td>20671.0</td>\n",
       "      <td>11200.0</td>\n",
       "      <td>32764.0</td>\n",
       "    </tr>\n",
       "    <tr>\n",
       "      <th>4</th>\n",
       "      <td>12000.0</td>\n",
       "      <td>1</td>\n",
       "      <td>0.12</td>\n",
       "      <td>266.88</td>\n",
       "      <td>1</td>\n",
       "      <td>19823</td>\n",
       "      <td>1</td>\n",
       "      <td>0</td>\n",
       "      <td>64000.0</td>\n",
       "      <td>1</td>\n",
       "      <td>2</td>\n",
       "      <td>29</td>\n",
       "      <td>5.14</td>\n",
       "      <td>0.0</td>\n",
       "      <td>0.0</td>\n",
       "      <td>8.0</td>\n",
       "      <td>0.0</td>\n",
       "      <td>0.58</td>\n",
       "      <td>22.0</td>\n",
       "      <td>9599.69000</td>\n",
       "      <td>128034.0</td>\n",
       "      <td>14600.0</td>\n",
       "      <td>3.0</td>\n",
       "      <td>18291.0</td>\n",
       "      <td>5904.0</td>\n",
       "      <td>58.4</td>\n",
       "      <td>134600.0</td>\n",
       "      <td>8475.0</td>\n",
       "      <td>14200.0</td>\n",
       "      <td>0.0</td>\n",
       "    </tr>\n",
       "    <tr>\n",
       "      <th>...</th>\n",
       "      <td>...</td>\n",
       "      <td>...</td>\n",
       "      <td>...</td>\n",
       "      <td>...</td>\n",
       "      <td>...</td>\n",
       "      <td>...</td>\n",
       "      <td>...</td>\n",
       "      <td>...</td>\n",
       "      <td>...</td>\n",
       "      <td>...</td>\n",
       "      <td>...</td>\n",
       "      <td>...</td>\n",
       "      <td>...</td>\n",
       "      <td>...</td>\n",
       "      <td>...</td>\n",
       "      <td>...</td>\n",
       "      <td>...</td>\n",
       "      <td>...</td>\n",
       "      <td>...</td>\n",
       "      <td>...</td>\n",
       "      <td>...</td>\n",
       "      <td>...</td>\n",
       "      <td>...</td>\n",
       "      <td>...</td>\n",
       "      <td>...</td>\n",
       "      <td>...</td>\n",
       "      <td>...</td>\n",
       "      <td>...</td>\n",
       "      <td>...</td>\n",
       "      <td>...</td>\n",
       "    </tr>\n",
       "    <tr>\n",
       "      <th>49995</th>\n",
       "      <td>13000.0</td>\n",
       "      <td>1</td>\n",
       "      <td>0.13</td>\n",
       "      <td>298.00</td>\n",
       "      <td>2</td>\n",
       "      <td>2342</td>\n",
       "      <td>1</td>\n",
       "      <td>1</td>\n",
       "      <td>65000.0</td>\n",
       "      <td>2</td>\n",
       "      <td>2</td>\n",
       "      <td>9</td>\n",
       "      <td>27.53</td>\n",
       "      <td>0.0</td>\n",
       "      <td>0.0</td>\n",
       "      <td>16.0</td>\n",
       "      <td>2.0</td>\n",
       "      <td>0.21</td>\n",
       "      <td>33.0</td>\n",
       "      <td>13529.51000</td>\n",
       "      <td>55174.0</td>\n",
       "      <td>28800.0</td>\n",
       "      <td>12.0</td>\n",
       "      <td>3678.0</td>\n",
       "      <td>15385.0</td>\n",
       "      <td>26.0</td>\n",
       "      <td>94757.0</td>\n",
       "      <td>55174.0</td>\n",
       "      <td>20800.0</td>\n",
       "      <td>65957.0</td>\n",
       "    </tr>\n",
       "    <tr>\n",
       "      <th>49996</th>\n",
       "      <td>26050.0</td>\n",
       "      <td>1</td>\n",
       "      <td>0.22</td>\n",
       "      <td>719.33</td>\n",
       "      <td>5</td>\n",
       "      <td>16625</td>\n",
       "      <td>1</td>\n",
       "      <td>0</td>\n",
       "      <td>56677.0</td>\n",
       "      <td>0</td>\n",
       "      <td>2</td>\n",
       "      <td>31</td>\n",
       "      <td>20.30</td>\n",
       "      <td>1.0</td>\n",
       "      <td>1.0</td>\n",
       "      <td>14.0</td>\n",
       "      <td>0.0</td>\n",
       "      <td>0.63</td>\n",
       "      <td>28.0</td>\n",
       "      <td>29454.19000</td>\n",
       "      <td>257712.0</td>\n",
       "      <td>34300.0</td>\n",
       "      <td>10.0</td>\n",
       "      <td>19824.0</td>\n",
       "      <td>1541.0</td>\n",
       "      <td>88.3</td>\n",
       "      <td>282755.0</td>\n",
       "      <td>34757.0</td>\n",
       "      <td>13200.0</td>\n",
       "      <td>21215.0</td>\n",
       "    </tr>\n",
       "    <tr>\n",
       "      <th>49997</th>\n",
       "      <td>30000.0</td>\n",
       "      <td>1</td>\n",
       "      <td>0.10</td>\n",
       "      <td>637.27</td>\n",
       "      <td>1</td>\n",
       "      <td>11007</td>\n",
       "      <td>6</td>\n",
       "      <td>0</td>\n",
       "      <td>75000.0</td>\n",
       "      <td>0</td>\n",
       "      <td>2</td>\n",
       "      <td>4</td>\n",
       "      <td>14.02</td>\n",
       "      <td>0.0</td>\n",
       "      <td>1.0</td>\n",
       "      <td>11.0</td>\n",
       "      <td>0.0</td>\n",
       "      <td>0.09</td>\n",
       "      <td>21.0</td>\n",
       "      <td>10138.30000</td>\n",
       "      <td>215131.0</td>\n",
       "      <td>89000.0</td>\n",
       "      <td>3.0</td>\n",
       "      <td>19557.0</td>\n",
       "      <td>38077.0</td>\n",
       "      <td>14.4</td>\n",
       "      <td>326428.0</td>\n",
       "      <td>24032.0</td>\n",
       "      <td>44500.0</td>\n",
       "      <td>34946.0</td>\n",
       "    </tr>\n",
       "    <tr>\n",
       "      <th>49998</th>\n",
       "      <td>7500.0</td>\n",
       "      <td>0</td>\n",
       "      <td>0.09</td>\n",
       "      <td>239.10</td>\n",
       "      <td>1</td>\n",
       "      <td>1233</td>\n",
       "      <td>1</td>\n",
       "      <td>0</td>\n",
       "      <td>52000.0</td>\n",
       "      <td>0</td>\n",
       "      <td>5</td>\n",
       "      <td>33</td>\n",
       "      <td>30.23</td>\n",
       "      <td>1.0</td>\n",
       "      <td>0.0</td>\n",
       "      <td>18.0</td>\n",
       "      <td>1.0</td>\n",
       "      <td>0.50</td>\n",
       "      <td>40.0</td>\n",
       "      <td>7764.93000</td>\n",
       "      <td>79454.0</td>\n",
       "      <td>26400.0</td>\n",
       "      <td>5.0</td>\n",
       "      <td>4674.0</td>\n",
       "      <td>5105.0</td>\n",
       "      <td>66.6</td>\n",
       "      <td>133481.0</td>\n",
       "      <td>23206.0</td>\n",
       "      <td>15300.0</td>\n",
       "      <td>47659.0</td>\n",
       "    </tr>\n",
       "    <tr>\n",
       "      <th>49999</th>\n",
       "      <td>12000.0</td>\n",
       "      <td>0</td>\n",
       "      <td>0.11</td>\n",
       "      <td>392.81</td>\n",
       "      <td>1</td>\n",
       "      <td>16625</td>\n",
       "      <td>1</td>\n",
       "      <td>2</td>\n",
       "      <td>43680.0</td>\n",
       "      <td>2</td>\n",
       "      <td>2</td>\n",
       "      <td>15</td>\n",
       "      <td>33.46</td>\n",
       "      <td>0.0</td>\n",
       "      <td>1.0</td>\n",
       "      <td>7.0</td>\n",
       "      <td>0.0</td>\n",
       "      <td>0.80</td>\n",
       "      <td>12.0</td>\n",
       "      <td>13718.23007</td>\n",
       "      <td>41424.0</td>\n",
       "      <td>5000.0</td>\n",
       "      <td>2.0</td>\n",
       "      <td>5918.0</td>\n",
       "      <td>497.0</td>\n",
       "      <td>89.0</td>\n",
       "      <td>59280.0</td>\n",
       "      <td>41424.0</td>\n",
       "      <td>4500.0</td>\n",
       "      <td>54280.0</td>\n",
       "    </tr>\n",
       "  </tbody>\n",
       "</table>\n",
       "<p>49999 rows × 30 columns</p>\n",
       "</div>"
      ],
      "text/plain": [
       "        amount  term  rate  payment  grade  employment  length  home  \\\n",
       "0       8000.0     0  0.14   272.07      2       17809       3     2   \n",
       "1      11000.0     0  0.10   354.89      1       17593       1     0   \n",
       "2      35000.0     0  0.15  1220.33      3       11045       1     2   \n",
       "3      20000.0     1  0.12   447.83      2         798       2     0   \n",
       "4      12000.0     1  0.12   266.88      1       19823       1     0   \n",
       "...        ...   ...   ...      ...    ...         ...     ...   ...   \n",
       "49995  13000.0     1  0.13   298.00      2        2342       1     1   \n",
       "49996  26050.0     1  0.22   719.33      5       16625       1     0   \n",
       "49997  30000.0     1  0.10   637.27      1       11007       6     0   \n",
       "49998   7500.0     0  0.09   239.10      1        1233       1     0   \n",
       "49999  12000.0     0  0.11   392.81      1       16625       1     2   \n",
       "\n",
       "         income  verified  reason  state  debtIncRat  delinq2yr  inq6mth  \\\n",
       "0       49966.0         1       1      4       30.05        0.0      0.0   \n",
       "1       50000.0         0       2     36        8.74        0.0      2.0   \n",
       "2      360000.0         2       2      4       14.50        0.0      1.0   \n",
       "3       60000.0         1       2      4       14.14        0.0      0.0   \n",
       "4       64000.0         1       2     29        5.14        0.0      0.0   \n",
       "...         ...       ...     ...    ...         ...        ...      ...   \n",
       "49995   65000.0         2       2      9       27.53        0.0      0.0   \n",
       "49996   56677.0         0       2     31       20.30        1.0      1.0   \n",
       "49997   75000.0         0       2      4       14.02        0.0      1.0   \n",
       "49998   52000.0         0       5     33       30.23        1.0      0.0   \n",
       "49999   43680.0         2       2     15       33.46        0.0      1.0   \n",
       "\n",
       "       openAcc  pubRec  revolRatio  totalAcc    totalPaid  totalBal  \\\n",
       "0         11.0     0.0        0.55      15.0   5914.67000   48054.0   \n",
       "1         12.0     0.0        0.36      15.0  12024.75000  265838.0   \n",
       "2          8.0     0.0        0.83      14.0  31668.65000  850150.0   \n",
       "3         12.0     3.0        0.01      48.0  23827.22901   20671.0   \n",
       "4          8.0     0.0        0.58      22.0   9599.69000  128034.0   \n",
       "...        ...     ...         ...       ...          ...       ...   \n",
       "49995     16.0     2.0        0.21      33.0  13529.51000   55174.0   \n",
       "49996     14.0     0.0        0.63      28.0  29454.19000  257712.0   \n",
       "49997     11.0     0.0        0.09      21.0  10138.30000  215131.0   \n",
       "49998     18.0     1.0        0.50      40.0   7764.93000   79454.0   \n",
       "49999      7.0     0.0        0.80      12.0  13718.23007   41424.0   \n",
       "\n",
       "       totalRevLim  accOpen24    avgBal   bcOpen  bcRatio  totalLim  \\\n",
       "0           8100.0        8.0    4369.0     43.0     95.7   60629.0   \n",
       "1          33400.0        4.0   22153.0  19756.0     37.5  297500.0   \n",
       "2          83000.0        2.0  121450.0   7686.0     83.2  907300.0   \n",
       "3          14200.0        8.0    1723.0  11061.0      1.2   46964.0   \n",
       "4          14600.0        3.0   18291.0   5904.0     58.4  134600.0   \n",
       "...            ...        ...       ...      ...      ...       ...   \n",
       "49995      28800.0       12.0    3678.0  15385.0     26.0   94757.0   \n",
       "49996      34300.0       10.0   19824.0   1541.0     88.3  282755.0   \n",
       "49997      89000.0        3.0   19557.0  38077.0     14.4  326428.0   \n",
       "49998      26400.0        5.0    4674.0   5105.0     66.6  133481.0   \n",
       "49999       5000.0        2.0    5918.0    497.0     89.0   59280.0   \n",
       "\n",
       "       totalRevBal  totalBcLim  totalIlLim  \n",
       "0          48054.0      1000.0     52529.0  \n",
       "1          11844.0     31600.0         0.0  \n",
       "2         173260.0     83000.0    100000.0  \n",
       "3          20671.0     11200.0     32764.0  \n",
       "4           8475.0     14200.0         0.0  \n",
       "...            ...         ...         ...  \n",
       "49995      55174.0     20800.0     65957.0  \n",
       "49996      34757.0     13200.0     21215.0  \n",
       "49997      24032.0     44500.0     34946.0  \n",
       "49998      23206.0     15300.0     47659.0  \n",
       "49999      41424.0      4500.0     54280.0  \n",
       "\n",
       "[49999 rows x 30 columns]"
      ]
     },
     "execution_count": 16,
     "metadata": {},
     "output_type": "execute_result"
    }
   ],
   "source": [
    "x = loan_data_frame.drop(['status'], axis=1)\n",
    "x"
   ]
  },
  {
   "cell_type": "code",
   "execution_count": 17,
   "id": "80ed3d21",
   "metadata": {},
   "outputs": [
    {
     "data": {
      "text/plain": [
       "0        False\n",
       "1         True\n",
       "2        False\n",
       "3         True\n",
       "4        False\n",
       "         ...  \n",
       "49995     True\n",
       "49996     True\n",
       "49997    False\n",
       "49998     True\n",
       "49999     True\n",
       "Name: status, Length: 49999, dtype: bool"
      ]
     },
     "execution_count": 17,
     "metadata": {},
     "output_type": "execute_result"
    }
   ],
   "source": [
    "y = loan_data_frame['status']\n",
    "y"
   ]
  },
  {
   "cell_type": "markdown",
   "id": "de364d6a",
   "metadata": {},
   "source": [
    "## Build the model"
   ]
  },
  {
   "cell_type": "markdown",
   "id": "f59bd274",
   "metadata": {},
   "source": [
    "### Split"
   ]
  },
  {
   "cell_type": "code",
   "execution_count": 18,
   "id": "ac5b54aa",
   "metadata": {},
   "outputs": [],
   "source": [
    "x_train, x_test, y_train, y_test = train_test_split(x, y, random_state=42)"
   ]
  },
  {
   "cell_type": "markdown",
   "id": "ad885fa8",
   "metadata": {},
   "source": [
    "### Fit"
   ]
  },
  {
   "cell_type": "code",
   "execution_count": 25,
   "id": "867d3132",
   "metadata": {},
   "outputs": [
    {
     "data": {
      "text/plain": [
       "LogisticRegression(max_iter=1000)"
      ]
     },
     "execution_count": 25,
     "metadata": {},
     "output_type": "execute_result"
    }
   ],
   "source": [
    "logistic_regression = LogisticRegression(max_iter=1000)\n",
    "logistic_regression.fit(x_train,y_train)"
   ]
  },
  {
   "cell_type": "markdown",
   "id": "ca79a73e",
   "metadata": {},
   "source": [
    "### Predict"
   ]
  },
  {
   "cell_type": "code",
   "execution_count": 26,
   "id": "1657be74",
   "metadata": {},
   "outputs": [
    {
     "data": {
      "text/plain": [
       "array([ True, False, False, ..., False,  True,  True])"
      ]
     },
     "execution_count": 26,
     "metadata": {},
     "output_type": "execute_result"
    }
   ],
   "source": [
    "predict = logistic_regression.predict(x_test)\n",
    "predict"
   ]
  },
  {
   "cell_type": "markdown",
   "id": "deccafb6",
   "metadata": {},
   "source": [
    "## Test the model"
   ]
  },
  {
   "cell_type": "markdown",
   "id": "0aaaf143",
   "metadata": {},
   "source": [
    "### Confusion matrix"
   ]
  },
  {
   "cell_type": "code",
   "execution_count": 27,
   "id": "d524b61f",
   "metadata": {
    "scrolled": true
   },
   "outputs": [
    {
     "data": {
      "text/html": [
       "<div>\n",
       "<style scoped>\n",
       "    .dataframe tbody tr th:only-of-type {\n",
       "        vertical-align: middle;\n",
       "    }\n",
       "\n",
       "    .dataframe tbody tr th {\n",
       "        vertical-align: top;\n",
       "    }\n",
       "\n",
       "    .dataframe thead th {\n",
       "        text-align: right;\n",
       "    }\n",
       "</style>\n",
       "<table border=\"1\" class=\"dataframe\">\n",
       "  <thead>\n",
       "    <tr style=\"text-align: right;\">\n",
       "      <th></th>\n",
       "      <th>0</th>\n",
       "      <th>1</th>\n",
       "    </tr>\n",
       "  </thead>\n",
       "  <tbody>\n",
       "    <tr>\n",
       "      <th>0</th>\n",
       "      <td>4746</td>\n",
       "      <td>977</td>\n",
       "    </tr>\n",
       "    <tr>\n",
       "      <th>1</th>\n",
       "      <td>270</td>\n",
       "      <td>6507</td>\n",
       "    </tr>\n",
       "  </tbody>\n",
       "</table>\n",
       "</div>"
      ],
      "text/plain": [
       "      0     1\n",
       "0  4746   977\n",
       "1   270  6507"
      ]
     },
     "execution_count": 27,
     "metadata": {},
     "output_type": "execute_result"
    }
   ],
   "source": [
    "pd.DataFrame(confusion_matrix(y_test,predict))"
   ]
  },
  {
   "cell_type": "markdown",
   "id": "054b2d3e",
   "metadata": {},
   "source": [
    "### Classification report"
   ]
  },
  {
   "cell_type": "code",
   "execution_count": 28,
   "id": "ea89e3f2",
   "metadata": {},
   "outputs": [
    {
     "name": "stdout",
     "output_type": "stream",
     "text": [
      "              precision    recall  f1-score   support\n",
      "\n",
      "       False       0.95      0.83      0.88      5723\n",
      "        True       0.87      0.96      0.91      6777\n",
      "\n",
      "    accuracy                           0.90     12500\n",
      "   macro avg       0.91      0.89      0.90     12500\n",
      "weighted avg       0.90      0.90      0.90     12500\n",
      "\n"
     ]
    }
   ],
   "source": [
    "print(classification_report(y_test,predict))"
   ]
  }
 ],
 "metadata": {
  "kernelspec": {
   "display_name": "Python 3 (ipykernel)",
   "language": "python",
   "name": "python3"
  },
  "language_info": {
   "codemirror_mode": {
    "name": "ipython",
    "version": 3
   },
   "file_extension": ".py",
   "mimetype": "text/x-python",
   "name": "python",
   "nbconvert_exporter": "python",
   "pygments_lexer": "ipython3",
   "version": "3.9.10"
  }
 },
 "nbformat": 4,
 "nbformat_minor": 5
}
