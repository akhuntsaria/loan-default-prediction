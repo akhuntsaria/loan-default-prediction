{
 "cells": [
  {
   "cell_type": "markdown",
   "id": "f7b9e71c",
   "metadata": {},
   "source": [
    "# Loan default prediction using logistic regression"
   ]
  },
  {
   "cell_type": "markdown",
   "id": "1d4a8333",
   "metadata": {},
   "source": [
    "## Import libraries"
   ]
  },
  {
   "cell_type": "code",
   "execution_count": null,
   "id": "6451ad96",
   "metadata": {},
   "outputs": [],
   "source": [
    "import pandas as pd\n",
    "import numpy as np\n",
    "import seaborn as sns\n",
    "import matplotlib.pyplot as plt"
   ]
  },
  {
   "cell_type": "markdown",
   "id": "a60f50d0",
   "metadata": {},
   "source": [
    "## Load data"
   ]
  },
  {
   "cell_type": "code",
   "execution_count": 11,
   "id": "a5ea8c38",
   "metadata": {},
   "outputs": [
    {
     "name": "stdout",
     "output_type": "stream",
     "text": [
      "    amount                    employment       status\n",
      "0   8000.0                 Warehouseman   Charged Off\n",
      "1  11000.0                Vice President   Fully Paid\n",
      "2  35000.0                Owner/Attorney      Current\n",
      "3  20000.0                       Analyst   Fully Paid\n",
      "4  12000.0            medical technician      Current\n",
      "5  10000.0  Assistant Accounting Manager  Charged Off\n",
      "6  20000.0            Program Assistant    Fully Paid\n",
      "7  15250.0                     toolmaker   Fully Paid\n",
      "8   7800.0                        Cajera   Fully Paid\n",
      "9  18000.0          Medical Technologist   Fully Paid\n"
     ]
    }
   ],
   "source": [
    "loan_data_frame = pd.read_csv(\"data.csv\") # pandas.DataFrame\n",
    "\n",
    "print(loan_data_frame[[\"amount\", \"employment\", \"status\"]].head(10))"
   ]
  },
  {
   "cell_type": "code",
   "execution_count": null,
   "id": "8b55db23",
   "metadata": {},
   "outputs": [],
   "source": []
  }
 ],
 "metadata": {
  "kernelspec": {
   "display_name": "Python 3 (ipykernel)",
   "language": "python",
   "name": "python3"
  },
  "language_info": {
   "codemirror_mode": {
    "name": "ipython",
    "version": 3
   },
   "file_extension": ".py",
   "mimetype": "text/x-python",
   "name": "python",
   "nbconvert_exporter": "python",
   "pygments_lexer": "ipython3",
   "version": "3.9.10"
  }
 },
 "nbformat": 4,
 "nbformat_minor": 5
}
