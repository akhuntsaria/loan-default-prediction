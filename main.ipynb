{
 "cells": [
  {
   "cell_type": "markdown",
   "id": "f7b9e71c",
   "metadata": {},
   "source": [
    "# Loan default prediction using logistic regression"
   ]
  },
  {
   "cell_type": "markdown",
   "id": "1d4a8333",
   "metadata": {},
   "source": [
    "## Import libraries"
   ]
  },
  {
   "cell_type": "code",
   "execution_count": 2,
   "id": "6451ad96",
   "metadata": {},
   "outputs": [],
   "source": [
    "import pandas as pd\n",
    "import numpy as np\n",
    "import seaborn as sns\n",
    "import matplotlib.pyplot as plt"
   ]
  },
  {
   "cell_type": "markdown",
   "id": "a60f50d0",
   "metadata": {},
   "source": [
    "## Load data"
   ]
  },
  {
   "cell_type": "code",
   "execution_count": 14,
   "id": "a5ea8c38",
   "metadata": {},
   "outputs": [],
   "source": [
    "loan_data_frame = pd.read_csv(\"data.csv\") # pandas.DataFrame"
   ]
  },
  {
   "cell_type": "markdown",
   "id": "627e6113",
   "metadata": {},
   "source": [
    "### Count of rows"
   ]
  },
  {
   "cell_type": "code",
   "execution_count": 17,
   "id": "6a8066ff",
   "metadata": {},
   "outputs": [
    {
     "data": {
      "text/plain": [
       "50000"
      ]
     },
     "execution_count": 17,
     "metadata": {},
     "output_type": "execute_result"
    }
   ],
   "source": [
    "len(loan_data_frame)"
   ]
  },
  {
   "cell_type": "markdown",
   "id": "6d05692c",
   "metadata": {},
   "source": [
    "### Example of training data"
   ]
  },
  {
   "cell_type": "code",
   "execution_count": 18,
   "id": "8b55db23",
   "metadata": {},
   "outputs": [
    {
     "data": {
      "text/html": [
       "<div>\n",
       "<style scoped>\n",
       "    .dataframe tbody tr th:only-of-type {\n",
       "        vertical-align: middle;\n",
       "    }\n",
       "\n",
       "    .dataframe tbody tr th {\n",
       "        vertical-align: top;\n",
       "    }\n",
       "\n",
       "    .dataframe thead th {\n",
       "        text-align: right;\n",
       "    }\n",
       "</style>\n",
       "<table border=\"1\" class=\"dataframe\">\n",
       "  <thead>\n",
       "    <tr style=\"text-align: right;\">\n",
       "      <th></th>\n",
       "      <th>amount</th>\n",
       "      <th>employment</th>\n",
       "      <th>status</th>\n",
       "    </tr>\n",
       "  </thead>\n",
       "  <tbody>\n",
       "    <tr>\n",
       "      <th>0</th>\n",
       "      <td>8000.0</td>\n",
       "      <td>Warehouseman</td>\n",
       "      <td>Charged Off</td>\n",
       "    </tr>\n",
       "    <tr>\n",
       "      <th>1</th>\n",
       "      <td>11000.0</td>\n",
       "      <td>Vice President</td>\n",
       "      <td>Fully Paid</td>\n",
       "    </tr>\n",
       "    <tr>\n",
       "      <th>2</th>\n",
       "      <td>35000.0</td>\n",
       "      <td>Owner/Attorney</td>\n",
       "      <td>Current</td>\n",
       "    </tr>\n",
       "    <tr>\n",
       "      <th>3</th>\n",
       "      <td>20000.0</td>\n",
       "      <td>Analyst</td>\n",
       "      <td>Fully Paid</td>\n",
       "    </tr>\n",
       "    <tr>\n",
       "      <th>4</th>\n",
       "      <td>12000.0</td>\n",
       "      <td>medical technician</td>\n",
       "      <td>Current</td>\n",
       "    </tr>\n",
       "  </tbody>\n",
       "</table>\n",
       "</div>"
      ],
      "text/plain": [
       "    amount          employment       status\n",
       "0   8000.0       Warehouseman   Charged Off\n",
       "1  11000.0      Vice President   Fully Paid\n",
       "2  35000.0      Owner/Attorney      Current\n",
       "3  20000.0             Analyst   Fully Paid\n",
       "4  12000.0  medical technician      Current"
      ]
     },
     "execution_count": 18,
     "metadata": {},
     "output_type": "execute_result"
    }
   ],
   "source": [
    "loan_data_frame[[\"amount\", \"employment\", \"status\"]].head(5)"
   ]
  },
  {
   "cell_type": "markdown",
   "id": "28981b7d",
   "metadata": {},
   "source": [
    "### Columns and their description\n",
    "amount - loan amount\\\n",
    "employment - job title of applicant\\\n",
    "status - loan status"
   ]
  }
 ],
 "metadata": {
  "kernelspec": {
   "display_name": "Python 3 (ipykernel)",
   "language": "python",
   "name": "python3"
  },
  "language_info": {
   "codemirror_mode": {
    "name": "ipython",
    "version": 3
   },
   "file_extension": ".py",
   "mimetype": "text/x-python",
   "name": "python",
   "nbconvert_exporter": "python",
   "pygments_lexer": "ipython3",
   "version": "3.9.10"
  }
 },
 "nbformat": 4,
 "nbformat_minor": 5
}
